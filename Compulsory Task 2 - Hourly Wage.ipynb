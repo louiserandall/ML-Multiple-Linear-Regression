{
 "cells": [
  {
   "cell_type": "markdown",
   "id": "b1f20e0a",
   "metadata": {},
   "source": [
    "# Importing Libraries and Importing the dataset"
   ]
  },
  {
   "cell_type": "code",
   "execution_count": 51,
   "id": "9d8cadd9",
   "metadata": {},
   "outputs": [
    {
     "data": {
      "text/html": [
       "<div>\n",
       "<style scoped>\n",
       "    .dataframe tbody tr th:only-of-type {\n",
       "        vertical-align: middle;\n",
       "    }\n",
       "\n",
       "    .dataframe tbody tr th {\n",
       "        vertical-align: top;\n",
       "    }\n",
       "\n",
       "    .dataframe thead th {\n",
       "        text-align: right;\n",
       "    }\n",
       "</style>\n",
       "<table border=\"1\" class=\"dataframe\">\n",
       "  <thead>\n",
       "    <tr style=\"text-align: right;\">\n",
       "      <th></th>\n",
       "      <th>position</th>\n",
       "      <th>agerange</th>\n",
       "      <th>yrsscale</th>\n",
       "      <th>hourwage</th>\n",
       "    </tr>\n",
       "  </thead>\n",
       "  <tbody>\n",
       "    <tr>\n",
       "      <th>0</th>\n",
       "      <td>1</td>\n",
       "      <td>1</td>\n",
       "      <td>2</td>\n",
       "      <td>13.736234054538</td>\n",
       "    </tr>\n",
       "    <tr>\n",
       "      <th>1</th>\n",
       "      <td>0</td>\n",
       "      <td>1</td>\n",
       "      <td>2</td>\n",
       "      <td>16.4407309689108</td>\n",
       "    </tr>\n",
       "    <tr>\n",
       "      <th>2</th>\n",
       "      <td>0</td>\n",
       "      <td>1</td>\n",
       "      <td>3</td>\n",
       "      <td>21.3891077239505</td>\n",
       "    </tr>\n",
       "    <tr>\n",
       "      <th>3</th>\n",
       "      <td>1</td>\n",
       "      <td>1</td>\n",
       "      <td>1</td>\n",
       "      <td>11.377187468408</td>\n",
       "    </tr>\n",
       "    <tr>\n",
       "      <th>4</th>\n",
       "      <td>0</td>\n",
       "      <td>1</td>\n",
       "      <td>3</td>\n",
       "      <td>21.5607775454338</td>\n",
       "    </tr>\n",
       "  </tbody>\n",
       "</table>\n",
       "</div>"
      ],
      "text/plain": [
       "   position  agerange  yrsscale          hourwage\n",
       "0         1         1         2   13.736234054538\n",
       "1         0         1         2  16.4407309689108\n",
       "2         0         1         3  21.3891077239505\n",
       "3         1         1         1   11.377187468408\n",
       "4         0         1         3  21.5607775454338"
      ]
     },
     "execution_count": 51,
     "metadata": {},
     "output_type": "execute_result"
    }
   ],
   "source": [
    "import numpy as np\n",
    "import pandas as pd\n",
    "import matplotlib.pyplot as plt\n",
    "import seaborn as sns\n",
    "from sklearn.linear_model import LinearRegression\n",
    "from sklearn.preprocessing import MinMaxScaler\n",
    "\n",
    "\n",
    "df = pd.read_csv(\"hourlywagedata.csv\", encoding='utf-8-sig')\n",
    "df.head()"
   ]
  },
  {
   "cell_type": "markdown",
   "id": "11c2f4b1",
   "metadata": {},
   "source": [
    "# Data Cleansing"
   ]
  },
  {
   "cell_type": "markdown",
   "id": "da7b6be6",
   "metadata": {},
   "source": [
    "I want to look at the number of rows and columns of the dataframe"
   ]
  },
  {
   "cell_type": "code",
   "execution_count": 2,
   "id": "0d5d7f53",
   "metadata": {},
   "outputs": [
    {
     "data": {
      "text/plain": [
       "(3000, 4)"
      ]
     },
     "execution_count": 2,
     "metadata": {},
     "output_type": "execute_result"
    }
   ],
   "source": [
    "df.shape"
   ]
  },
  {
   "cell_type": "markdown",
   "id": "062595dc",
   "metadata": {},
   "source": [
    "Now I want to look at the number of null values across all columns"
   ]
  },
  {
   "cell_type": "code",
   "execution_count": 3,
   "id": "b2cf766f",
   "metadata": {},
   "outputs": [
    {
     "data": {
      "text/plain": [
       "position    0\n",
       "agerange    0\n",
       "yrsscale    0\n",
       "hourwage    0\n",
       "dtype: int64"
      ]
     },
     "execution_count": 3,
     "metadata": {},
     "output_type": "execute_result"
    }
   ],
   "source": [
    "df.isnull().sum()"
   ]
  },
  {
   "cell_type": "markdown",
   "id": "5dd1e668",
   "metadata": {},
   "source": [
    "Now I want to look at the data types across all columns"
   ]
  },
  {
   "cell_type": "code",
   "execution_count": 4,
   "id": "7ac26f02",
   "metadata": {},
   "outputs": [
    {
     "data": {
      "text/plain": [
       "position     int64\n",
       "agerange     int64\n",
       "yrsscale     int64\n",
       "hourwage    object\n",
       "dtype: object"
      ]
     },
     "execution_count": 4,
     "metadata": {},
     "output_type": "execute_result"
    }
   ],
   "source": [
    "df.dtypes"
   ]
  },
  {
   "cell_type": "markdown",
   "id": "4cfb3a90",
   "metadata": {},
   "source": [
    "From the above we can clearly see the hourwage column is an object which needs converting to a float so we can analyse later. "
   ]
  },
  {
   "cell_type": "markdown",
   "id": "932c631d",
   "metadata": {},
   "source": [
    "Now I want to investigate this further"
   ]
  },
  {
   "cell_type": "code",
   "execution_count": 12,
   "id": "640b9320",
   "metadata": {},
   "outputs": [
    {
     "data": {
      "text/plain": [
       "position    89\n",
       "agerange    89\n",
       "yrsscale    89\n",
       "hourwage    89\n",
       "dtype: int64"
      ]
     },
     "execution_count": 12,
     "metadata": {},
     "output_type": "execute_result"
    }
   ],
   "source": [
    "df[df.hourwage == ' '].count()\n"
   ]
  },
  {
   "cell_type": "markdown",
   "id": "e40cc2b5",
   "metadata": {},
   "source": [
    "It appears there are 89 blanks in the hourwage column which I intend to drop "
   ]
  },
  {
   "cell_type": "code",
   "execution_count": 13,
   "id": "f9d67920",
   "metadata": {},
   "outputs": [],
   "source": [
    "df = df[df.hourwage != ' ']"
   ]
  },
  {
   "cell_type": "code",
   "execution_count": 14,
   "id": "b41b514d",
   "metadata": {},
   "outputs": [
    {
     "data": {
      "text/html": [
       "<div>\n",
       "<style scoped>\n",
       "    .dataframe tbody tr th:only-of-type {\n",
       "        vertical-align: middle;\n",
       "    }\n",
       "\n",
       "    .dataframe tbody tr th {\n",
       "        vertical-align: top;\n",
       "    }\n",
       "\n",
       "    .dataframe thead th {\n",
       "        text-align: right;\n",
       "    }\n",
       "</style>\n",
       "<table border=\"1\" class=\"dataframe\">\n",
       "  <thead>\n",
       "    <tr style=\"text-align: right;\">\n",
       "      <th></th>\n",
       "      <th>position</th>\n",
       "      <th>agerange</th>\n",
       "      <th>yrsscale</th>\n",
       "      <th>hourwage</th>\n",
       "    </tr>\n",
       "  </thead>\n",
       "  <tbody>\n",
       "    <tr>\n",
       "      <th>0</th>\n",
       "      <td>1.0</td>\n",
       "      <td>1.0</td>\n",
       "      <td>2.0</td>\n",
       "      <td>13.736234</td>\n",
       "    </tr>\n",
       "    <tr>\n",
       "      <th>1</th>\n",
       "      <td>0.0</td>\n",
       "      <td>1.0</td>\n",
       "      <td>2.0</td>\n",
       "      <td>16.440731</td>\n",
       "    </tr>\n",
       "    <tr>\n",
       "      <th>2</th>\n",
       "      <td>0.0</td>\n",
       "      <td>1.0</td>\n",
       "      <td>3.0</td>\n",
       "      <td>21.389108</td>\n",
       "    </tr>\n",
       "    <tr>\n",
       "      <th>3</th>\n",
       "      <td>1.0</td>\n",
       "      <td>1.0</td>\n",
       "      <td>1.0</td>\n",
       "      <td>11.377187</td>\n",
       "    </tr>\n",
       "    <tr>\n",
       "      <th>4</th>\n",
       "      <td>0.0</td>\n",
       "      <td>1.0</td>\n",
       "      <td>3.0</td>\n",
       "      <td>21.560778</td>\n",
       "    </tr>\n",
       "    <tr>\n",
       "      <th>...</th>\n",
       "      <td>...</td>\n",
       "      <td>...</td>\n",
       "      <td>...</td>\n",
       "      <td>...</td>\n",
       "    </tr>\n",
       "    <tr>\n",
       "      <th>2995</th>\n",
       "      <td>0.0</td>\n",
       "      <td>3.0</td>\n",
       "      <td>4.0</td>\n",
       "      <td>20.419885</td>\n",
       "    </tr>\n",
       "    <tr>\n",
       "      <th>2996</th>\n",
       "      <td>0.0</td>\n",
       "      <td>3.0</td>\n",
       "      <td>4.0</td>\n",
       "      <td>20.441482</td>\n",
       "    </tr>\n",
       "    <tr>\n",
       "      <th>2997</th>\n",
       "      <td>1.0</td>\n",
       "      <td>3.0</td>\n",
       "      <td>4.0</td>\n",
       "      <td>18.450234</td>\n",
       "    </tr>\n",
       "    <tr>\n",
       "      <th>2998</th>\n",
       "      <td>0.0</td>\n",
       "      <td>3.0</td>\n",
       "      <td>4.0</td>\n",
       "      <td>19.144460</td>\n",
       "    </tr>\n",
       "    <tr>\n",
       "      <th>2999</th>\n",
       "      <td>0.0</td>\n",
       "      <td>3.0</td>\n",
       "      <td>3.0</td>\n",
       "      <td>13.638466</td>\n",
       "    </tr>\n",
       "  </tbody>\n",
       "</table>\n",
       "<p>2911 rows × 4 columns</p>\n",
       "</div>"
      ],
      "text/plain": [
       "      position  agerange  yrsscale   hourwage\n",
       "0          1.0       1.0       2.0  13.736234\n",
       "1          0.0       1.0       2.0  16.440731\n",
       "2          0.0       1.0       3.0  21.389108\n",
       "3          1.0       1.0       1.0  11.377187\n",
       "4          0.0       1.0       3.0  21.560778\n",
       "...        ...       ...       ...        ...\n",
       "2995       0.0       3.0       4.0  20.419885\n",
       "2996       0.0       3.0       4.0  20.441482\n",
       "2997       1.0       3.0       4.0  18.450234\n",
       "2998       0.0       3.0       4.0  19.144460\n",
       "2999       0.0       3.0       3.0  13.638466\n",
       "\n",
       "[2911 rows x 4 columns]"
      ]
     },
     "execution_count": 14,
     "metadata": {},
     "output_type": "execute_result"
    }
   ],
   "source": [
    "df.astype(float)"
   ]
  },
  {
   "cell_type": "code",
   "execution_count": 20,
   "id": "d53396fe",
   "metadata": {},
   "outputs": [],
   "source": [
    "df[\"hourwage\"] = df.hourwage.astype(float)"
   ]
  },
  {
   "cell_type": "code",
   "execution_count": 21,
   "id": "e86f8a3d",
   "metadata": {},
   "outputs": [
    {
     "data": {
      "text/plain": [
       "position      int64\n",
       "agerange      int64\n",
       "yrsscale      int64\n",
       "hourwage    float64\n",
       "dtype: object"
      ]
     },
     "execution_count": 21,
     "metadata": {},
     "output_type": "execute_result"
    }
   ],
   "source": [
    "df.dtypes\n"
   ]
  },
  {
   "cell_type": "markdown",
   "id": "406e05ad",
   "metadata": {},
   "source": [
    "Lets create a pair plot to compare the distribute of hour wage gainst the three categorial indepent variables"
   ]
  },
  {
   "cell_type": "code",
   "execution_count": 30,
   "id": "59dbc692",
   "metadata": {},
   "outputs": [
    {
     "data": {
      "text/plain": [
       "<seaborn.axisgrid.PairGrid at 0x1ba45501a50>"
      ]
     },
     "execution_count": 30,
     "metadata": {},
     "output_type": "execute_result"
    },
    {
     "data": {
      "image/png": "[encoded data removed]",
      "text/plain": [
       "<Figure size 750x750 with 12 Axes>"
      ]
     },
     "metadata": {},
     "output_type": "display_data"
    }
   ],
   "source": [
    "sns.pairplot(data=df.drop('hourwage', axis=1))"
   ]
  },
  {
   "cell_type": "markdown",
   "id": "b115d18c",
   "metadata": {},
   "source": [
    "# Multiple Linear Regression"
   ]
  },
  {
   "cell_type": "markdown",
   "id": "961b1c98",
   "metadata": {},
   "source": [
    "Create an X = iloc for the position, agerange, yrsscale columns\n",
    "Print out the array for the 3 columns"
   ]
  },
  {
   "cell_type": "code",
   "execution_count": 33,
   "id": "c622c8be",
   "metadata": {},
   "outputs": [
    {
     "data": {
      "text/plain": [
       "array([[0, 1, 2],\n",
       "       [0, 1, 3],\n",
       "       [1, 1, 1]], dtype=int64)"
      ]
     },
     "execution_count": 33,
     "metadata": {},
     "output_type": "execute_result"
    }
   ],
   "source": [
    "X = df.iloc[:,[0, 1, 2]].values\n",
    "X[1:4]"
   ]
  },
  {
   "cell_type": "markdown",
   "id": "76a4bde8",
   "metadata": {},
   "source": [
    "Create an empty linear regression model like below and give it a good variable name such as hourwage_model.\n",
    "\n",
    "Create the model we use fit(x,y)\n",
    "\n",
    "Print the Intercept points of the hour wage model\n",
    "Print the Co efficient points of the hour wage model"
   ]
  },
  {
   "cell_type": "code",
   "execution_count": 35,
   "id": "a048f67a",
   "metadata": {},
   "outputs": [
    {
     "name": "stdout",
     "output_type": "stream",
     "text": [
      "Intercept: \n",
      " [18.26163096]\n",
      "Coefficients: \n",
      " [[-2.0197037  -0.22575442  0.82398308]]\n"
     ]
    }
   ],
   "source": [
    "y = df.iloc[:,3].values\n",
    "y = y.reshape(-1, 1)\n",
    "X = X.reshape(-1, X.shape[1])\n",
    "\n",
    "hourwage_model = LinearRegression()\n",
    "\n",
    "hourwage_model.fit(X,y)\n",
    "\n",
    "\n",
    "print('Intercept: \\n', hourwage_model.intercept_)\n",
    "print('Coefficients: \\n', hourwage_model.coef_)"
   ]
  },
  {
   "cell_type": "markdown",
   "id": "af7ed0e5",
   "metadata": {},
   "source": [
    "The above shows the Intercept point of 18.26 for the hourwage model\n",
    "\n",
    "The above shows the Co efficient points of the hourwage model for the 3 columns of position, agerange, yrsscale."
   ]
  },
  {
   "cell_type": "markdown",
   "id": "a6bc5f6d",
   "metadata": {},
   "source": [
    "# Training and test sets"
   ]
  },
  {
   "cell_type": "markdown",
   "id": "3bef6c2c",
   "metadata": {},
   "source": [
    "From sklearn library import train_test split\n",
    "\n",
    "Create X train and X test, y train and y test. Split this 80% training - 20% test."
   ]
  },
  {
   "cell_type": "code",
   "execution_count": 36,
   "id": "3d660624",
   "metadata": {},
   "outputs": [
    {
     "name": "stdout",
     "output_type": "stream",
     "text": [
      "Training data: (2328, 3) (2328, 1)\n",
      "Test data: (583, 3) (583, 1)\n"
     ]
    }
   ],
   "source": [
    "from sklearn.model_selection import train_test_split\n",
    "\n",
    "X_train, X_test, y_train, y_test = train_test_split(X,y,test_size = 0.20)\n",
    "\n",
    "print (\"Training data:\",X_train.shape, y_train.shape)\n",
    "print (\"Test data:\",X_test.shape, y_test.shape)"
   ]
  },
  {
   "cell_type": "markdown",
   "id": "b479dfda",
   "metadata": {},
   "source": [
    "The above uses a 0.20 test size split our data of 2911 items into a training set of 2328 observations and 3 columns, and a test set of 583 observations in 3 columns.\n",
    "\n",
    "We can now use this to evaluate our hourwage_model"
   ]
  },
  {
   "cell_type": "markdown",
   "id": "52d6a4d4",
   "metadata": {},
   "source": [
    "# Feature Scaling"
   ]
  },
  {
   "cell_type": "markdown",
   "id": "e1aabde9",
   "metadata": {},
   "source": [
    "Let's Normalize our data using MinMaxScaler. Note that we fit it on the training set - we don't want to fit anything on the test set."
   ]
  },
  {
   "cell_type": "markdown",
   "id": "9da05566",
   "metadata": {},
   "source": [
    "Fit the scaler on train data"
   ]
  },
  {
   "cell_type": "code",
   "execution_count": 37,
   "id": "d947e9fd",
   "metadata": {},
   "outputs": [
    {
     "data": {
      "text/html": [
       "<style>#sk-container-id-1 {color: black;background-color: white;}#sk-container-id-1 pre{padding: 0;}#sk-container-id-1 div.sk-toggleable {background-color: white;}#sk-container-id-1 label.sk-toggleable__label {cursor: pointer;display: block;width: 100%;margin-bottom: 0;padding: 0.3em;box-sizing: border-box;text-align: center;}#sk-container-id-1 label.sk-toggleable__label-arrow:before {content: \"▸\";float: left;margin-right: 0.25em;color: #696969;}#sk-container-id-1 label.sk-toggleable__label-arrow:hover:before {color: black;}#sk-container-id-1 div.sk-estimator:hover label.sk-toggleable__label-arrow:before {color: black;}#sk-container-id-1 div.sk-toggleable__content {max-height: 0;max-width: 0;overflow: hidden;text-align: left;background-color: #f0f8ff;}#sk-container-id-1 div.sk-toggleable__content pre {margin: 0.2em;color: black;border-radius: 0.25em;background-color: #f0f8ff;}#sk-container-id-1 input.sk-toggleable__control:checked~div.sk-toggleable__content {max-height: 200px;max-width: 100%;overflow: auto;}#sk-container-id-1 input.sk-toggleable__control:checked~label.sk-toggleable__label-arrow:before {content: \"▾\";}#sk-container-id-1 div.sk-estimator input.sk-toggleable__control:checked~label.sk-toggleable__label {background-color: #d4ebff;}#sk-container-id-1 div.sk-label input.sk-toggleable__control:checked~label.sk-toggleable__label {background-color: #d4ebff;}#sk-container-id-1 input.sk-hidden--visually {border: 0;clip: rect(1px 1px 1px 1px);clip: rect(1px, 1px, 1px, 1px);height: 1px;margin: -1px;overflow: hidden;padding: 0;position: absolute;width: 1px;}#sk-container-id-1 div.sk-estimator {font-family: monospace;background-color: #f0f8ff;border: 1px dotted black;border-radius: 0.25em;box-sizing: border-box;margin-bottom: 0.5em;}#sk-container-id-1 div.sk-estimator:hover {background-color: #d4ebff;}#sk-container-id-1 div.sk-parallel-item::after {content: \"\";width: 100%;border-bottom: 1px solid gray;flex-grow: 1;}#sk-container-id-1 div.sk-label:hover label.sk-toggleable__label {background-color: #d4ebff;}#sk-container-id-1 div.sk-serial::before {content: \"\";position: absolute;border-left: 1px solid gray;box-sizing: border-box;top: 0;bottom: 0;left: 50%;z-index: 0;}#sk-container-id-1 div.sk-serial {display: flex;flex-direction: column;align-items: center;background-color: white;padding-right: 0.2em;padding-left: 0.2em;position: relative;}#sk-container-id-1 div.sk-item {position: relative;z-index: 1;}#sk-container-id-1 div.sk-parallel {display: flex;align-items: stretch;justify-content: center;background-color: white;position: relative;}#sk-container-id-1 div.sk-item::before, #sk-container-id-1 div.sk-parallel-item::before {content: \"\";position: absolute;border-left: 1px solid gray;box-sizing: border-box;top: 0;bottom: 0;left: 50%;z-index: -1;}#sk-container-id-1 div.sk-parallel-item {display: flex;flex-direction: column;z-index: 1;position: relative;background-color: white;}#sk-container-id-1 div.sk-parallel-item:first-child::after {align-self: flex-end;width: 50%;}#sk-container-id-1 div.sk-parallel-item:last-child::after {align-self: flex-start;width: 50%;}#sk-container-id-1 div.sk-parallel-item:only-child::after {width: 0;}#sk-container-id-1 div.sk-dashed-wrapped {border: 1px dashed gray;margin: 0 0.4em 0.5em 0.4em;box-sizing: border-box;padding-bottom: 0.4em;background-color: white;}#sk-container-id-1 div.sk-label label {font-family: monospace;font-weight: bold;display: inline-block;line-height: 1.2em;}#sk-container-id-1 div.sk-label-container {text-align: center;}#sk-container-id-1 div.sk-container {/* jupyter's `normalize.less` sets `[hidden] { display: none; }` but bootstrap.min.css set `[hidden] { display: none !important; }` so we also need the `!important` here to be able to override the default hidden behavior on the sphinx rendered scikit-learn.org. See: https://github.com/scikit-learn/scikit-learn/issues/21755 */display: inline-block !important;position: relative;}#sk-container-id-1 div.sk-text-repr-fallback {display: none;}</style><div id=\"sk-container-id-1\" class=\"sk-top-container\"><div class=\"sk-text-repr-fallback\"><pre>MinMaxScaler()</pre><b>In a Jupyter environment, please rerun this cell to show the HTML representation or trust the notebook. <br />On GitHub, the HTML representation is unable to render, please try loading this page with nbviewer.org.</b></div><div class=\"sk-container\" hidden><div class=\"sk-item\"><div class=\"sk-estimator sk-toggleable\"><input class=\"sk-toggleable__control sk-hidden--visually\" id=\"sk-estimator-id-1\" type=\"checkbox\" checked><label for=\"sk-estimator-id-1\" class=\"sk-toggleable__label sk-toggleable__label-arrow\">MinMaxScaler</label><div class=\"sk-toggleable__content\"><pre>MinMaxScaler()</pre></div></div></div></div></div>"
      ],
      "text/plain": [
       "MinMaxScaler()"
      ]
     },
     "execution_count": 37,
     "metadata": {},
     "output_type": "execute_result"
    }
   ],
   "source": [
    "sc = MinMaxScaler()\n",
    "sc.fit(X_train)"
   ]
  },
  {
   "cell_type": "markdown",
   "id": "868371d4",
   "metadata": {},
   "source": [
    "Apply the scaler on train and test data"
   ]
  },
  {
   "cell_type": "code",
   "execution_count": 38,
   "id": "4f07e131",
   "metadata": {},
   "outputs": [],
   "source": [
    "X_train = sc.transform(X_train)\n",
    "X_test = sc.transform(X_test)"
   ]
  },
  {
   "cell_type": "markdown",
   "id": "d7446454",
   "metadata": {},
   "source": [
    "# Fit the model on the training data"
   ]
  },
  {
   "cell_type": "markdown",
   "id": "9a731219",
   "metadata": {},
   "source": [
    "First we fit the model"
   ]
  },
  {
   "cell_type": "code",
   "execution_count": 39,
   "id": "a58c5c65",
   "metadata": {},
   "outputs": [],
   "source": [
    "lm= LinearRegression()\n",
    "model = lm.fit(X_train, y_train)\n",
    "predictions = lm.predict(X_test)"
   ]
  },
  {
   "cell_type": "code",
   "execution_count": 40,
   "id": "a8b738c4",
   "metadata": {},
   "outputs": [
    {
     "data": {
      "text/plain": [
       "(583, 1)"
      ]
     },
     "execution_count": 40,
     "metadata": {},
     "output_type": "execute_result"
    }
   ],
   "source": [
    "y_test.shape"
   ]
  },
  {
   "cell_type": "markdown",
   "id": "3b4b25c1",
   "metadata": {},
   "source": [
    "Create line coordinates"
   ]
  },
  {
   "cell_type": "code",
   "execution_count": 41,
   "id": "9124c644",
   "metadata": {},
   "outputs": [
    {
     "name": "stdout",
     "output_type": "stream",
     "text": [
      "Intercept: \n",
      " [18.76875073]\n",
      "Coefficients: \n",
      " [[-2.01767992 -0.47896028  4.2653437 ]]\n"
     ]
    }
   ],
   "source": [
    "X_line = np.empty(X_test.shape)\n",
    "for i in range(X_test.shape[1]):\n",
    "    X_line[:, i] = np.linspace(np.min(X_test[:,i]), np.max(X_test[:,i]), num=X_test.shape[0])\n",
    "y_line = lm.predict(X_line)\n",
    "\n",
    "print('Intercept: \\n', lm.intercept_)\n",
    "print('Coefficients: \\n', lm.coef_)"
   ]
  },
  {
   "cell_type": "markdown",
   "id": "630883e3",
   "metadata": {},
   "source": [
    "The above shows the Intercept point of 18.76 for the Linear Regression model\n",
    "\n",
    "The above shows the Co efficient points of the Linear Regression model for the 3 columns of position, agerange, yrsscale."
   ]
  },
  {
   "cell_type": "code",
   "execution_count": 48,
   "id": "f02530e9",
   "metadata": {},
   "outputs": [
    {
     "data": {
      "text/plain": [
       "array([[18.52927059],\n",
       "       [19.68438548],\n",
       "       [22.55513414],\n",
       "       [19.68438548],\n",
       "       [19.07079689]])"
      ]
     },
     "execution_count": 48,
     "metadata": {},
     "output_type": "execute_result"
    }
   ],
   "source": [
    "predictions[0:5]"
   ]
  },
  {
   "cell_type": "markdown",
   "id": "4f545dfd",
   "metadata": {},
   "source": [
    "# Plot the errors creating an error bar"
   ]
  },
  {
   "cell_type": "code",
   "execution_count": 49,
   "id": "7e891f49",
   "metadata": {},
   "outputs": [
    {
     "data": {
      "image/png": "[encoded data removed]",
      "text/plain": [
       "<Figure size 800x200 with 3 Axes>"
      ]
     },
     "metadata": {},
     "output_type": "display_data"
    }
   ],
   "source": [
    "## Plot the errors\n",
    "fig, ax = plt.subplots(1, X_test.shape[1], sharey=True, sharex=True, figsize=(8,2))\n",
    "fig.suptitle(\"Y vs X on Each Dimension\")\n",
    "ax[0].set_ylabel(df.columns[3])\n",
    "\n",
    "# Plot Line of Best Fit\n",
    "# for i in range(X_test.shape[1]):\n",
    "#     ax[i].plot(X_line[:,i], y_line[:,0])\n",
    "#     ax[i].set_xlabel(data.columns[i])\n",
    "\n",
    "# Get values for the error bar\n",
    "error_bar_values = np.abs((y_test-predictions)[:,0])\n",
    "\n",
    "# Plot error bars (should be no error)\n",
    "for i in range(X_test.shape[1]):\n",
    "    ax[i].errorbar(X_test[:, i], y_test[:, 0], yerr=error_bar_values, fmt='.k', ecolor='red', label='True')\n",
    "    ax[i].scatter(X_test[:,i], predictions[:,0], c='b', marker='.', label='Predicted')\n",
    "    ax[i].legend(loc='best', fontsize='x-small')"
   ]
  },
  {
   "cell_type": "markdown",
   "id": "cc13a8ef",
   "metadata": {},
   "source": [
    "The red lines indicate the error of the prediction from the actual observations. The black dots represent true values, and the blue dots represent predicted values. You will notice that, at the end of the red lines, either at the top or bottom, is a blue dot. In other words, you can read the red error line as the distance deviated from the true values. The reason why there is a red line either side of the black dot is to show that the error may be within that line, either above or below."
   ]
  },
  {
   "cell_type": "markdown",
   "id": "4133c745",
   "metadata": {},
   "source": [
    "# Sklearn's LinearRegression provides the R squared score for its models:"
   ]
  },
  {
   "cell_type": "code",
   "execution_count": 50,
   "id": "c78baa91",
   "metadata": {},
   "outputs": [
    {
     "name": "stdout",
     "output_type": "stream",
     "text": [
      "Score: 0.09932649643513192\n"
     ]
    }
   ],
   "source": [
    "print (\"Score:\", model.score(X_test, y_test))"
   ]
  },
  {
   "cell_type": "markdown",
   "id": "5353d250",
   "metadata": {},
   "source": [
    "This score is 0.0993 which is not close to 1, which suggests that our model does not fit our observations."
   ]
  }
 ],
 "metadata": {
  "kernelspec": {
   "display_name": "Python 3 (ipykernel)",
   "language": "python",
   "name": "python3"
  },
  "language_info": {
   "codemirror_mode": {
    "name": "ipython",
    "version": 3
   },
   "file_extension": ".py",
   "mimetype": "text/x-python",
   "name": "python",
   "nbconvert_exporter": "python",
   "pygments_lexer": "ipython3",
   "version": "3.11.2"
  }
 },
 "nbformat": 4,
 "nbformat_minor": 5
}
