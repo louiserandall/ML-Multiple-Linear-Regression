{
 "cells": [
  {
   "cell_type": "markdown",
   "id": "b60b5710",
   "metadata": {},
   "source": [
    "# Importing Libraries and Importing the dataset"
   ]
  },
  {
   "cell_type": "code",
   "execution_count": 1,
   "id": "a6df12cb",
   "metadata": {},
   "outputs": [
    {
     "data": {
      "text/html": [
       "<div>\n",
       "<style scoped>\n",
       "    .dataframe tbody tr th:only-of-type {\n",
       "        vertical-align: middle;\n",
       "    }\n",
       "\n",
       "    .dataframe tbody tr th {\n",
       "        vertical-align: top;\n",
       "    }\n",
       "\n",
       "    .dataframe thead th {\n",
       "        text-align: right;\n",
       "    }\n",
       "</style>\n",
       "<table border=\"1\" class=\"dataframe\">\n",
       "  <thead>\n",
       "    <tr style=\"text-align: right;\">\n",
       "      <th></th>\n",
       "      <th>sex</th>\n",
       "      <th>bmi</th>\n",
       "      <th>bp</th>\n",
       "      <th>s1</th>\n",
       "      <th>s2</th>\n",
       "      <th>s3</th>\n",
       "      <th>s4</th>\n",
       "      <th>s5</th>\n",
       "      <th>s6</th>\n",
       "      <th>Progression</th>\n",
       "    </tr>\n",
       "    <tr>\n",
       "      <th>age</th>\n",
       "      <th></th>\n",
       "      <th></th>\n",
       "      <th></th>\n",
       "      <th></th>\n",
       "      <th></th>\n",
       "      <th></th>\n",
       "      <th></th>\n",
       "      <th></th>\n",
       "      <th></th>\n",
       "      <th></th>\n",
       "    </tr>\n",
       "  </thead>\n",
       "  <tbody>\n",
       "    <tr>\n",
       "      <th>0.038076</th>\n",
       "      <td>0.050680</td>\n",
       "      <td>0.061696</td>\n",
       "      <td>0.021872</td>\n",
       "      <td>-0.044223</td>\n",
       "      <td>-0.034821</td>\n",
       "      <td>-0.043401</td>\n",
       "      <td>-0.002592</td>\n",
       "      <td>0.019907</td>\n",
       "      <td>-0.017646</td>\n",
       "      <td>151.0</td>\n",
       "    </tr>\n",
       "    <tr>\n",
       "      <th>-0.001882</th>\n",
       "      <td>-0.044642</td>\n",
       "      <td>-0.051474</td>\n",
       "      <td>-0.026328</td>\n",
       "      <td>-0.008449</td>\n",
       "      <td>-0.019163</td>\n",
       "      <td>0.074412</td>\n",
       "      <td>-0.039493</td>\n",
       "      <td>-0.068332</td>\n",
       "      <td>-0.092204</td>\n",
       "      <td>75.0</td>\n",
       "    </tr>\n",
       "    <tr>\n",
       "      <th>0.085299</th>\n",
       "      <td>0.050680</td>\n",
       "      <td>0.044451</td>\n",
       "      <td>-0.005670</td>\n",
       "      <td>-0.045599</td>\n",
       "      <td>-0.034194</td>\n",
       "      <td>-0.032356</td>\n",
       "      <td>-0.002592</td>\n",
       "      <td>0.002861</td>\n",
       "      <td>-0.025930</td>\n",
       "      <td>141.0</td>\n",
       "    </tr>\n",
       "    <tr>\n",
       "      <th>-0.089063</th>\n",
       "      <td>-0.044642</td>\n",
       "      <td>-0.011595</td>\n",
       "      <td>-0.036656</td>\n",
       "      <td>0.012191</td>\n",
       "      <td>0.024991</td>\n",
       "      <td>-0.036038</td>\n",
       "      <td>0.034309</td>\n",
       "      <td>0.022688</td>\n",
       "      <td>-0.009362</td>\n",
       "      <td>206.0</td>\n",
       "    </tr>\n",
       "    <tr>\n",
       "      <th>0.005383</th>\n",
       "      <td>-0.044642</td>\n",
       "      <td>-0.036385</td>\n",
       "      <td>0.021872</td>\n",
       "      <td>0.003935</td>\n",
       "      <td>0.015596</td>\n",
       "      <td>0.008142</td>\n",
       "      <td>-0.002592</td>\n",
       "      <td>-0.031988</td>\n",
       "      <td>-0.046641</td>\n",
       "      <td>135.0</td>\n",
       "    </tr>\n",
       "  </tbody>\n",
       "</table>\n",
       "</div>"
      ],
      "text/plain": [
       "                sex       bmi        bp        s1        s2        s3  \\\n",
       "age                                                                     \n",
       " 0.038076  0.050680  0.061696  0.021872 -0.044223 -0.034821 -0.043401   \n",
       "-0.001882 -0.044642 -0.051474 -0.026328 -0.008449 -0.019163  0.074412   \n",
       " 0.085299  0.050680  0.044451 -0.005670 -0.045599 -0.034194 -0.032356   \n",
       "-0.089063 -0.044642 -0.011595 -0.036656  0.012191  0.024991 -0.036038   \n",
       " 0.005383 -0.044642 -0.036385  0.021872  0.003935  0.015596  0.008142   \n",
       "\n",
       "                 s4        s5        s6  Progression  \n",
       "age                                                   \n",
       " 0.038076 -0.002592  0.019907 -0.017646        151.0  \n",
       "-0.001882 -0.039493 -0.068332 -0.092204         75.0  \n",
       " 0.085299 -0.002592  0.002861 -0.025930        141.0  \n",
       "-0.089063  0.034309  0.022688 -0.009362        206.0  \n",
       " 0.005383 -0.002592 -0.031988 -0.046641        135.0  "
      ]
     },
     "execution_count": 1,
     "metadata": {},
     "output_type": "execute_result"
    }
   ],
   "source": [
    "import numpy as np\n",
    "import pandas as pd\n",
    "import matplotlib.pyplot as plt\n",
    "import seaborn as sns\n",
    "from sklearn.linear_model import LinearRegression\n",
    "from sklearn.preprocessing import MinMaxScaler\n",
    "\n",
    "\n",
    "data = pd.read_csv(\"diabetes.csv\", index_col=0)\n",
    "data.head()"
   ]
  },
  {
   "cell_type": "markdown",
   "id": "d04521fb",
   "metadata": {},
   "source": [
    "# Multiple Linear Regression"
   ]
  },
  {
   "cell_type": "markdown",
   "id": "5a120748",
   "metadata": {},
   "source": [
    "Create an X = iloc for the age, sex, bmi, bp, s1, s2, s3, s4, s5, s6 columns\n",
    "Print out the array for the 10 columns"
   ]
  },
  {
   "cell_type": "code",
   "execution_count": 23,
   "id": "4582a6aa",
   "metadata": {},
   "outputs": [
    {
     "data": {
      "text/plain": [
       "array([[-4.46416365e-02, -5.14740612e-02, -2.63275281e-02,\n",
       "        -8.44872411e-03, -1.91633397e-02,  7.44115641e-02,\n",
       "        -3.94933829e-02, -6.83315471e-02, -9.22040496e-02,\n",
       "         7.50000000e+01],\n",
       "       [ 5.06801187e-02,  4.44512133e-02, -5.67042229e-03,\n",
       "        -4.55994513e-02, -3.41944659e-02, -3.23559322e-02,\n",
       "        -2.59226200e-03,  2.86130929e-03, -2.59303390e-02,\n",
       "         1.41000000e+02],\n",
       "       [-4.46416365e-02, -1.15950145e-02, -3.66560811e-02,\n",
       "         1.21905688e-02,  2.49905934e-02, -3.60375700e-02,\n",
       "         3.43088589e-02,  2.26877450e-02, -9.36191133e-03,\n",
       "         2.06000000e+02],\n",
       "       [-4.46416365e-02, -3.63846922e-02,  2.18723855e-02,\n",
       "         3.93485161e-03,  1.55961395e-02,  8.14208361e-03,\n",
       "        -2.59226200e-03, -3.19876395e-02, -4.66408736e-02,\n",
       "         1.35000000e+02],\n",
       "       [-4.46416365e-02, -4.06959405e-02, -1.94418262e-02,\n",
       "        -6.89906499e-02, -7.92878444e-02,  4.12768238e-02,\n",
       "        -7.63945038e-02, -4.11761669e-02, -9.63461565e-02,\n",
       "         9.70000000e+01],\n",
       "       [ 5.06801187e-02, -4.71628129e-02, -1.59989752e-02,\n",
       "        -4.00956398e-02, -2.48000121e-02,  7.78807997e-04,\n",
       "        -3.94933829e-02, -6.29168791e-02, -3.83566597e-02,\n",
       "         1.38000000e+02],\n",
       "       [ 5.06801187e-02, -1.89470584e-03,  6.66294482e-02,\n",
       "         9.06198817e-02,  1.08914381e-01,  2.28686348e-02,\n",
       "         1.77033545e-02, -3.58161926e-02,  3.06440941e-03,\n",
       "         6.30000000e+01],\n",
       "       [ 5.06801187e-02,  6.16962065e-02, -4.00989321e-02,\n",
       "        -1.39525355e-02,  6.20168566e-03, -2.86742944e-02,\n",
       "        -2.59226200e-03, -1.49596938e-02,  1.13486232e-02,\n",
       "         1.10000000e+02],\n",
       "       [-4.46416365e-02,  3.90621530e-02, -3.32132301e-02,\n",
       "        -1.25765827e-02, -3.45076144e-02, -2.49926566e-02,\n",
       "        -2.59226200e-03,  6.77370531e-02, -1.35040182e-02,\n",
       "         3.10000000e+02]])"
      ]
     },
     "execution_count": 23,
     "metadata": {},
     "output_type": "execute_result"
    }
   ],
   "source": [
    "X = data.iloc[:,[0, 1, 2, 3, 4, 5, 6, 7, 8, 9]].values\n",
    "X[1:10]"
   ]
  },
  {
   "cell_type": "markdown",
   "id": "14e3c84c",
   "metadata": {},
   "source": [
    "Create an empty linear regression model like below and give it a good variable name such as diabetes_model.\n",
    "\n",
    "Create the model we use fit(x,y)\n",
    "\n",
    "Print the Intercept points of the diabetes model\n",
    "Print the Co efficient points of the diabetes model"
   ]
  },
  {
   "cell_type": "code",
   "execution_count": 26,
   "id": "88d39235",
   "metadata": {},
   "outputs": [
    {
     "name": "stdout",
     "output_type": "stream",
     "text": [
      "Intercept: \n",
      " [2.84217094e-14]\n",
      "Coefficients: \n",
      " [[ 2.59738215e-14 -4.24882352e-13  6.07456793e-15  1.30968782e-12\n",
      "  -1.06265474e-12 -5.65329034e-13 -8.15094520e-14 -5.81755130e-13\n",
      "   1.09079412e-14  1.00000000e+00]]\n"
     ]
    }
   ],
   "source": [
    "y = data.iloc[:,-1].values\n",
    "y = y.reshape(-1, 1)\n",
    "X = X.reshape(-1, 10)\n",
    "\n",
    "diabetes_model = LinearRegression()\n",
    "\n",
    "diabetes_model.fit(X,y)\n",
    "\n",
    "\n",
    "print('Intercept: \\n', diabetes_model.intercept_)\n",
    "print('Coefficients: \\n', diabetes_model.coef_)\n"
   ]
  },
  {
   "cell_type": "markdown",
   "id": "95dd5bb2",
   "metadata": {},
   "source": [
    "The above shows the Intercept point of 2.84 for the diabetes model\n",
    "\n",
    "The above shows the Co efficient points of the diabetes model for the 10 columns of age, sex, bmi, bp, s1, s2, s3, s4, s5, s6."
   ]
  },
  {
   "cell_type": "markdown",
   "id": "4931694f",
   "metadata": {},
   "source": [
    "# Training and test samples"
   ]
  },
  {
   "cell_type": "markdown",
   "id": "58ad8609",
   "metadata": {},
   "source": [
    "From sklearn library import train_test split\n",
    "\n",
    "Create X train and X test, y train and y test. Split this 80% training - 20% test.\n"
   ]
  },
  {
   "cell_type": "code",
   "execution_count": 27,
   "id": "ca4b6eb8",
   "metadata": {},
   "outputs": [
    {
     "name": "stdout",
     "output_type": "stream",
     "text": [
      "Training data: (353, 10) (353, 1)\n",
      "Test data: (89, 10) (89, 1)\n"
     ]
    }
   ],
   "source": [
    "from sklearn.model_selection import train_test_split\n",
    "\n",
    "X_train, X_test, y_train, y_test = train_test_split(X,y,test_size = 0.20)\n",
    "\n",
    "print (\"Training data:\",X_train.shape, y_train.shape)\n",
    "print (\"Test data:\",X_test.shape, y_test.shape)"
   ]
  },
  {
   "cell_type": "markdown",
   "id": "dc0e9922",
   "metadata": {},
   "source": [
    "The above uses a 0.20 test size split our data of 442 items into a training set of 353 observations and 10 columns, and a test set of 89 observations in 10 columns.\n",
    "\n",
    "We can now use this to evaluate our diabetes_model"
   ]
  },
  {
   "cell_type": "markdown",
   "id": "33900344",
   "metadata": {},
   "source": [
    "# Feature Scaling"
   ]
  },
  {
   "cell_type": "markdown",
   "id": "18bda2c2",
   "metadata": {},
   "source": [
    "Let's Normalize our data using MinMaxScaler. Note that we fit it on the training set - we don't want to fit anything on the test set."
   ]
  },
  {
   "cell_type": "markdown",
   "id": "b1c7f9b2",
   "metadata": {},
   "source": [
    "Fit the scaler on train data"
   ]
  },
  {
   "cell_type": "code",
   "execution_count": 28,
   "id": "79f8e4c7",
   "metadata": {},
   "outputs": [
    {
     "data": {
      "text/html": [
       "<style>#sk-container-id-2 {color: black;background-color: white;}#sk-container-id-2 pre{padding: 0;}#sk-container-id-2 div.sk-toggleable {background-color: white;}#sk-container-id-2 label.sk-toggleable__label {cursor: pointer;display: block;width: 100%;margin-bottom: 0;padding: 0.3em;box-sizing: border-box;text-align: center;}#sk-container-id-2 label.sk-toggleable__label-arrow:before {content: \"▸\";float: left;margin-right: 0.25em;color: #696969;}#sk-container-id-2 label.sk-toggleable__label-arrow:hover:before {color: black;}#sk-container-id-2 div.sk-estimator:hover label.sk-toggleable__label-arrow:before {color: black;}#sk-container-id-2 div.sk-toggleable__content {max-height: 0;max-width: 0;overflow: hidden;text-align: left;background-color: #f0f8ff;}#sk-container-id-2 div.sk-toggleable__content pre {margin: 0.2em;color: black;border-radius: 0.25em;background-color: #f0f8ff;}#sk-container-id-2 input.sk-toggleable__control:checked~div.sk-toggleable__content {max-height: 200px;max-width: 100%;overflow: auto;}#sk-container-id-2 input.sk-toggleable__control:checked~label.sk-toggleable__label-arrow:before {content: \"▾\";}#sk-container-id-2 div.sk-estimator input.sk-toggleable__control:checked~label.sk-toggleable__label {background-color: #d4ebff;}#sk-container-id-2 div.sk-label input.sk-toggleable__control:checked~label.sk-toggleable__label {background-color: #d4ebff;}#sk-container-id-2 input.sk-hidden--visually {border: 0;clip: rect(1px 1px 1px 1px);clip: rect(1px, 1px, 1px, 1px);height: 1px;margin: -1px;overflow: hidden;padding: 0;position: absolute;width: 1px;}#sk-container-id-2 div.sk-estimator {font-family: monospace;background-color: #f0f8ff;border: 1px dotted black;border-radius: 0.25em;box-sizing: border-box;margin-bottom: 0.5em;}#sk-container-id-2 div.sk-estimator:hover {background-color: #d4ebff;}#sk-container-id-2 div.sk-parallel-item::after {content: \"\";width: 100%;border-bottom: 1px solid gray;flex-grow: 1;}#sk-container-id-2 div.sk-label:hover label.sk-toggleable__label {background-color: #d4ebff;}#sk-container-id-2 div.sk-serial::before {content: \"\";position: absolute;border-left: 1px solid gray;box-sizing: border-box;top: 0;bottom: 0;left: 50%;z-index: 0;}#sk-container-id-2 div.sk-serial {display: flex;flex-direction: column;align-items: center;background-color: white;padding-right: 0.2em;padding-left: 0.2em;position: relative;}#sk-container-id-2 div.sk-item {position: relative;z-index: 1;}#sk-container-id-2 div.sk-parallel {display: flex;align-items: stretch;justify-content: center;background-color: white;position: relative;}#sk-container-id-2 div.sk-item::before, #sk-container-id-2 div.sk-parallel-item::before {content: \"\";position: absolute;border-left: 1px solid gray;box-sizing: border-box;top: 0;bottom: 0;left: 50%;z-index: -1;}#sk-container-id-2 div.sk-parallel-item {display: flex;flex-direction: column;z-index: 1;position: relative;background-color: white;}#sk-container-id-2 div.sk-parallel-item:first-child::after {align-self: flex-end;width: 50%;}#sk-container-id-2 div.sk-parallel-item:last-child::after {align-self: flex-start;width: 50%;}#sk-container-id-2 div.sk-parallel-item:only-child::after {width: 0;}#sk-container-id-2 div.sk-dashed-wrapped {border: 1px dashed gray;margin: 0 0.4em 0.5em 0.4em;box-sizing: border-box;padding-bottom: 0.4em;background-color: white;}#sk-container-id-2 div.sk-label label {font-family: monospace;font-weight: bold;display: inline-block;line-height: 1.2em;}#sk-container-id-2 div.sk-label-container {text-align: center;}#sk-container-id-2 div.sk-container {/* jupyter's `normalize.less` sets `[hidden] { display: none; }` but bootstrap.min.css set `[hidden] { display: none !important; }` so we also need the `!important` here to be able to override the default hidden behavior on the sphinx rendered scikit-learn.org. See: https://github.com/scikit-learn/scikit-learn/issues/21755 */display: inline-block !important;position: relative;}#sk-container-id-2 div.sk-text-repr-fallback {display: none;}</style><div id=\"sk-container-id-2\" class=\"sk-top-container\"><div class=\"sk-text-repr-fallback\"><pre>MinMaxScaler()</pre><b>In a Jupyter environment, please rerun this cell to show the HTML representation or trust the notebook. <br />On GitHub, the HTML representation is unable to render, please try loading this page with nbviewer.org.</b></div><div class=\"sk-container\" hidden><div class=\"sk-item\"><div class=\"sk-estimator sk-toggleable\"><input class=\"sk-toggleable__control sk-hidden--visually\" id=\"sk-estimator-id-2\" type=\"checkbox\" checked><label for=\"sk-estimator-id-2\" class=\"sk-toggleable__label sk-toggleable__label-arrow\">MinMaxScaler</label><div class=\"sk-toggleable__content\"><pre>MinMaxScaler()</pre></div></div></div></div></div>"
      ],
      "text/plain": [
       "MinMaxScaler()"
      ]
     },
     "execution_count": 28,
     "metadata": {},
     "output_type": "execute_result"
    }
   ],
   "source": [
    "sc = MinMaxScaler()\n",
    "sc.fit(X_train)\n"
   ]
  },
  {
   "cell_type": "markdown",
   "id": "52b0ce27",
   "metadata": {},
   "source": [
    "Apply the scaler on train and test data"
   ]
  },
  {
   "cell_type": "code",
   "execution_count": 29,
   "id": "8b2f34e6",
   "metadata": {},
   "outputs": [],
   "source": [
    "X_train = sc.transform(X_train)\n",
    "X_test = sc.transform(X_test)"
   ]
  },
  {
   "cell_type": "markdown",
   "id": "5a6cea61",
   "metadata": {},
   "source": [
    "# Fit the model on the training data"
   ]
  },
  {
   "cell_type": "markdown",
   "id": "e1098fd4",
   "metadata": {},
   "source": [
    "First we fit a model"
   ]
  },
  {
   "cell_type": "code",
   "execution_count": 30,
   "id": "1249e559",
   "metadata": {},
   "outputs": [],
   "source": [
    "lm= LinearRegression()\n",
    "model = lm.fit(X_train, y_train)\n",
    "predictions = lm.predict(X_test)"
   ]
  },
  {
   "cell_type": "code",
   "execution_count": 31,
   "id": "89c33c05",
   "metadata": {},
   "outputs": [
    {
     "data": {
      "text/plain": [
       "(89, 1)"
      ]
     },
     "execution_count": 31,
     "metadata": {},
     "output_type": "execute_result"
    }
   ],
   "source": [
    "y_test.shape"
   ]
  },
  {
   "cell_type": "markdown",
   "id": "0af3d627",
   "metadata": {},
   "source": [
    "Create line coordinates"
   ]
  },
  {
   "cell_type": "code",
   "execution_count": 32,
   "id": "c6f19f4f",
   "metadata": {},
   "outputs": [
    {
     "name": "stdout",
     "output_type": "stream",
     "text": [
      "Intercept: \n",
      " [25.]\n",
      "Coefficients: \n",
      " [[ 6.84735154e-14 -9.23705556e-14  8.17124146e-14 -6.89892588e-13\n",
      "   4.06785716e-13  2.16715534e-13  1.06581410e-14  2.59348099e-13\n",
      "  -1.45661261e-13  3.21000000e+02]]\n"
     ]
    }
   ],
   "source": [
    "X_line = np.empty(X_test.shape)\n",
    "for i in range(X_test.shape[1]):\n",
    "    X_line[:, i] = np.linspace(np.min(X_test[:,i]), np.max(X_test[:,i]), num=X_test.shape[0])\n",
    "y_line = lm.predict(X_line)\n",
    "\n",
    "print('Intercept: \\n', lm.intercept_)\n",
    "print('Coefficients: \\n', lm.coef_)"
   ]
  },
  {
   "cell_type": "markdown",
   "id": "fe9a7b9a",
   "metadata": {},
   "source": [
    "The above shows the Intercept point of 25 for the Linear Regression model\n",
    "\n",
    "The above shows the Co efficient points of the Linear Regression model for the 10 columns of age, sex, bmi, bp, s1, s2, s3, s4, s5, s6."
   ]
  },
  {
   "cell_type": "code",
   "execution_count": 39,
   "id": "04bf3c07",
   "metadata": {},
   "outputs": [
    {
     "data": {
      "text/plain": [
       "array([[ 96.],\n",
       "       [195.],\n",
       "       [167.],\n",
       "       [ 49.],\n",
       "       [242.],\n",
       "       [ 65.],\n",
       "       [293.],\n",
       "       [162.],\n",
       "       [127.],\n",
       "       [198.],\n",
       "       [182.]])"
      ]
     },
     "execution_count": 39,
     "metadata": {},
     "output_type": "execute_result"
    }
   ],
   "source": [
    "predictions[0:11]"
   ]
  },
  {
   "cell_type": "markdown",
   "id": "62da0e83",
   "metadata": {},
   "source": [
    "# Plot the errors creating an error bar"
   ]
  },
  {
   "cell_type": "code",
   "execution_count": 40,
   "id": "9465b4f7",
   "metadata": {},
   "outputs": [
    {
     "data": {
      "text/plain": [
       "(89, 1)"
      ]
     },
     "execution_count": 40,
     "metadata": {},
     "output_type": "execute_result"
    },
    {
     "data": {
      "image/png": "[encoded data removed]",
      "text/plain": [
       "<Figure size 640x480 with 1 Axes>"
      ]
     },
     "metadata": {},
     "output_type": "display_data"
    }
   ],
   "source": [
    "plt.errorbar(range(1,90), y_test.squeeze(), yerr=abs(y_test-predictions).squeeze() ,fmt='.k', ecolor=\"red\");\n",
    "\n",
    "y_test.shape"
   ]
  },
  {
   "cell_type": "code",
   "execution_count": 41,
   "id": "04987ad0",
   "metadata": {},
   "outputs": [
    {
     "data": {
      "image/png": "[encoded data removed]",
      "text/plain": [
       "<Figure size 800x200 with 10 Axes>"
      ]
     },
     "metadata": {},
     "output_type": "display_data"
    }
   ],
   "source": [
    "## Plot the errors\n",
    "fig, ax = plt.subplots(1, X_test.shape[1], sharey=True, sharex=True, figsize=(8,2))\n",
    "fig.suptitle(\"Y vs X on Each Dimension\")\n",
    "ax[0].set_ylabel(data.columns[3])\n",
    "\n",
    "# Plot Line of Best Fit\n",
    "# for i in range(X_test.shape[1]):\n",
    "#     ax[i].plot(X_line[:,i], y_line[:,0])\n",
    "#     ax[i].set_xlabel(data.columns[i])\n",
    "\n",
    "# Get values for the error bar\n",
    "error_bar_values = np.abs((y_test-predictions)[:,0])\n",
    "\n",
    "# Plot error bars (should be no error)\n",
    "for i in range(X_test.shape[1]):\n",
    "    ax[i].errorbar(X_test[:, i], y_test[:, 0], yerr=error_bar_values, fmt='.k', ecolor='red', label='True')\n",
    "    ax[i].scatter(X_test[:,i], predictions[:,0], c='b', marker='.', label='Predicted')\n",
    "    ax[i].legend(loc='best', fontsize='x-small')"
   ]
  },
  {
   "cell_type": "markdown",
   "id": "0f88f800",
   "metadata": {},
   "source": [
    "This should show red lines to indicate the error of the predication from the actual observations, however there is no red lines which is interesting."
   ]
  },
  {
   "cell_type": "markdown",
   "id": "d34e03f7",
   "metadata": {},
   "source": [
    "Sklearn's LinearRegression provides the R squared score for its models:"
   ]
  },
  {
   "cell_type": "code",
   "execution_count": 37,
   "id": "5b135fa7",
   "metadata": {},
   "outputs": [
    {
     "name": "stdout",
     "output_type": "stream",
     "text": [
      "Score: 1.0\n"
     ]
    }
   ],
   "source": [
    "print (\"Score:\", model.score(X_test, y_test))"
   ]
  },
  {
   "cell_type": "markdown",
   "id": "48a03b09",
   "metadata": {},
   "source": [
    "This score is 1, which suggests that our model fits our observations really well and we should not use another model."
   ]
  }
 ],
 "metadata": {
  "kernelspec": {
   "display_name": "Python 3 (ipykernel)",
   "language": "python",
   "name": "python3"
  },
  "language_info": {
   "codemirror_mode": {
    "name": "ipython",
    "version": 3
   },
   "file_extension": ".py",
   "mimetype": "text/x-python",
   "name": "python",
   "nbconvert_exporter": "python",
   "pygments_lexer": "ipython3",
   "version": "3.11.2"
  }
 },
 "nbformat": 4,
 "nbformat_minor": 5
}
